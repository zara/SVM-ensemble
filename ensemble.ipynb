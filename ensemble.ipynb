{
 "cells": [
  {
   "cell_type": "code",
   "execution_count": 1,
   "metadata": {},
   "outputs": [],
   "source": [
    "import matplotlib.pyplot as plt\n",
    "from sklearn import datasets, svm, metrics\n",
    "from sklearn.ensemble.forest import RandomForestClassifier\n",
    "from sklearn.neighbors.classification import KNeighborsClassifier\n",
    "from sklearn.naive_bayes import MultinomialNB, GaussianNB, BernoulliNB\n",
    "from sklearn.linear_model.stochastic_gradient import SGDClassifier\n",
    "from sklearn.feature_selection import chi2\n",
    "from sklearn.feature_selection.univariate_selection import SelectPercentile, SelectKBest\n",
    "import numpy as np"
   ]
  },
  {
   "cell_type": "code",
   "execution_count": 2,
   "metadata": {},
   "outputs": [],
   "source": [
    "digits_dataset = datasets.load_digits()\n",
    "images_and_labels = list(zip(digits_dataset.images, digits_dataset.target))\n"
   ]
  },
  {
   "cell_type": "code",
   "execution_count": 3,
   "metadata": {},
   "outputs": [
    {
     "data": {
      "image/png": "[encoded data removed]",
      "text/plain": [
       "<Figure size 432x288 with 4 Axes>"
      ]
     },
     "metadata": {
      "needs_background": "light"
     },
     "output_type": "display_data"
    }
   ],
   "source": [
    "for index, (image, label) in enumerate(images_and_labels[:4]):\n",
    "    plt.subplot(2, 4, index + 1)\n",
    "    plt.axis('off')\n",
    "    plt.imshow(image, cmap=plt.cm.gray_r, interpolation='nearest')\n",
    "    plt.title('Training: %i' % label)"
   ]
  },
  {
   "cell_type": "code",
   "execution_count": 4,
   "metadata": {},
   "outputs": [
    {
     "data": {
      "text/plain": [
       "1797"
      ]
     },
     "execution_count": 4,
     "metadata": {},
     "output_type": "execute_result"
    }
   ],
   "source": [
    "n_samples = len(digits_dataset.images)\n",
    "n_samples"
   ]
  },
  {
   "cell_type": "code",
   "execution_count": 5,
   "metadata": {},
   "outputs": [
    {
     "data": {
      "text/plain": [
       "array([[[ 0.,  0.,  5., ...,  1.,  0.,  0.],\n",
       "        [ 0.,  0., 13., ..., 15.,  5.,  0.],\n",
       "        [ 0.,  3., 15., ..., 11.,  8.,  0.],\n",
       "        ...,\n",
       "        [ 0.,  4., 11., ..., 12.,  7.,  0.],\n",
       "        [ 0.,  2., 14., ..., 12.,  0.,  0.],\n",
       "        [ 0.,  0.,  6., ...,  0.,  0.,  0.]],\n",
       "\n",
       "       [[ 0.,  0.,  0., ...,  5.,  0.,  0.],\n",
       "        [ 0.,  0.,  0., ...,  9.,  0.,  0.],\n",
       "        [ 0.,  0.,  3., ...,  6.,  0.,  0.],\n",
       "        ...,\n",
       "        [ 0.,  0.,  1., ...,  6.,  0.,  0.],\n",
       "        [ 0.,  0.,  1., ...,  6.,  0.,  0.],\n",
       "        [ 0.,  0.,  0., ..., 10.,  0.,  0.]],\n",
       "\n",
       "       [[ 0.,  0.,  0., ..., 12.,  0.,  0.],\n",
       "        [ 0.,  0.,  3., ..., 14.,  0.,  0.],\n",
       "        [ 0.,  0.,  8., ..., 16.,  0.,  0.],\n",
       "        ...,\n",
       "        [ 0.,  9., 16., ...,  0.,  0.,  0.],\n",
       "        [ 0.,  3., 13., ..., 11.,  5.,  0.],\n",
       "        [ 0.,  0.,  0., ..., 16.,  9.,  0.]],\n",
       "\n",
       "       ...,\n",
       "\n",
       "       [[ 0.,  0.,  1., ...,  1.,  0.,  0.],\n",
       "        [ 0.,  0., 13., ...,  2.,  1.,  0.],\n",
       "        [ 0.,  0., 16., ..., 16.,  5.,  0.],\n",
       "        ...,\n",
       "        [ 0.,  0., 16., ..., 15.,  0.,  0.],\n",
       "        [ 0.,  0., 15., ..., 16.,  0.,  0.],\n",
       "        [ 0.,  0.,  2., ...,  6.,  0.,  0.]],\n",
       "\n",
       "       [[ 0.,  0.,  2., ...,  0.,  0.,  0.],\n",
       "        [ 0.,  0., 14., ..., 15.,  1.,  0.],\n",
       "        [ 0.,  4., 16., ..., 16.,  7.,  0.],\n",
       "        ...,\n",
       "        [ 0.,  0.,  0., ..., 16.,  2.,  0.],\n",
       "        [ 0.,  0.,  4., ..., 16.,  2.,  0.],\n",
       "        [ 0.,  0.,  5., ..., 12.,  0.,  0.]],\n",
       "\n",
       "       [[ 0.,  0., 10., ...,  1.,  0.,  0.],\n",
       "        [ 0.,  2., 16., ...,  1.,  0.,  0.],\n",
       "        [ 0.,  0., 15., ..., 15.,  0.,  0.],\n",
       "        ...,\n",
       "        [ 0.,  4., 16., ..., 16.,  6.,  0.],\n",
       "        [ 0.,  8., 16., ..., 16.,  8.,  0.],\n",
       "        [ 0.,  1.,  8., ..., 12.,  1.,  0.]]])"
      ]
     },
     "execution_count": 5,
     "metadata": {},
     "output_type": "execute_result"
    }
   ],
   "source": [
    "digits_dataset.images"
   ]
  },
  {
   "cell_type": "code",
   "execution_count": 6,
   "metadata": {},
   "outputs": [
    {
     "data": {
      "text/plain": [
       "array([[ 0.,  0.,  5., ...,  0.,  0.,  0.],\n",
       "       [ 0.,  0.,  0., ..., 10.,  0.,  0.],\n",
       "       [ 0.,  0.,  0., ..., 16.,  9.,  0.],\n",
       "       ...,\n",
       "       [ 0.,  0.,  1., ...,  6.,  0.,  0.],\n",
       "       [ 0.,  0.,  2., ..., 12.,  0.,  0.],\n",
       "       [ 0.,  0., 10., ..., 12.,  1.,  0.]])"
      ]
     },
     "execution_count": 6,
     "metadata": {},
     "output_type": "execute_result"
    }
   ],
   "source": [
    "data = digits_dataset.images.reshape(n_samples, -1)\n",
    "data"
   ]
  },
  {
   "cell_type": "code",
   "execution_count": 7,
   "metadata": {},
   "outputs": [
    {
     "data": {
      "text/plain": [
       "SVC(C=1.0, cache_size=200, class_weight=None, coef0=0.0,\n",
       "    decision_function_shape='ovr', degree=3, gamma=0.001, kernel='rbf',\n",
       "    max_iter=-1, probability=False, random_state=None, shrinking=True,\n",
       "    tol=0.001, verbose=False)"
      ]
     },
     "execution_count": 7,
     "metadata": {},
     "output_type": "execute_result"
    }
   ],
   "source": [
    "svm_clf = svm.SVC(gamma=0.001)\n",
    "svm_clf.fit(data[:n_samples // 2], digits_dataset.target[:n_samples // 2])\n"
   ]
  },
  {
   "cell_type": "code",
   "execution_count": 8,
   "metadata": {},
   "outputs": [
    {
     "name": "stdout",
     "output_type": "stream",
     "text": [
      "              precision    recall  f1-score   support\n",
      "\n",
      "           0       1.00      0.99      0.99        88\n",
      "           1       0.99      0.97      0.98        91\n",
      "           2       0.99      0.99      0.99        86\n",
      "           3       0.98      0.87      0.92        91\n",
      "           4       0.99      0.96      0.97        92\n",
      "           5       0.95      0.97      0.96        91\n",
      "           6       0.99      0.99      0.99        91\n",
      "           7       0.96      0.99      0.97        89\n",
      "           8       0.94      1.00      0.97        88\n",
      "           9       0.93      0.98      0.95        92\n",
      "\n",
      "    accuracy                           0.97       899\n",
      "   macro avg       0.97      0.97      0.97       899\n",
      "weighted avg       0.97      0.97      0.97       899\n",
      "\n"
     ]
    }
   ],
   "source": [
    "expected = digits_dataset.target[n_samples // 2:]\n",
    "predicted = svm_clf.predict(data[n_samples // 2:])\n",
    "print(metrics.classification_report(expected, predicted))"
   ]
  },
  {
   "cell_type": "code",
   "execution_count": 9,
   "metadata": {},
   "outputs": [
    {
     "name": "stdout",
     "output_type": "stream",
     "text": [
      "[[87  0  0  0  1  0  0  0  0  0]\n",
      " [ 0 88  1  0  0  0  0  0  1  1]\n",
      " [ 0  0 85  1  0  0  0  0  0  0]\n",
      " [ 0  0  0 79  0  3  0  4  5  0]\n",
      " [ 0  0  0  0 88  0  0  0  0  4]\n",
      " [ 0  0  0  0  0 88  1  0  0  2]\n",
      " [ 0  1  0  0  0  0 90  0  0  0]\n",
      " [ 0  0  0  0  0  1  0 88  0  0]\n",
      " [ 0  0  0  0  0  0  0  0 88  0]\n",
      " [ 0  0  0  1  0  1  0  0  0 90]]\n"
     ]
    }
   ],
   "source": [
    "print(metrics.confusion_matrix(expected, predicted))"
   ]
  },
  {
   "cell_type": "code",
   "execution_count": 10,
   "metadata": {},
   "outputs": [
    {
     "name": "stdout",
     "output_type": "stream",
     "text": [
      "              precision    recall  f1-score   support\n",
      "\n",
      "           0       0.97      0.99      0.98        88\n",
      "           1       0.94      0.90      0.92        91\n",
      "           2       1.00      0.99      0.99        86\n",
      "           3       0.97      0.86      0.91        91\n",
      "           4       0.99      0.95      0.97        92\n",
      "           5       0.90      0.97      0.93        91\n",
      "           6       0.98      0.99      0.98        91\n",
      "           7       0.97      0.96      0.96        89\n",
      "           8       0.88      0.92      0.90        88\n",
      "           9       0.87      0.93      0.90        92\n",
      "\n",
      "    accuracy                           0.94       899\n",
      "   macro avg       0.95      0.94      0.94       899\n",
      "weighted avg       0.95      0.94      0.94       899\n",
      "\n"
     ]
    }
   ],
   "source": [
    "svm2_clf = svm.SVC(kernel='linear')\n",
    "svm2_clf.fit(data[:n_samples // 2], digits_dataset.target[:n_samples // 2])\n",
    "expected = digits_dataset.target[n_samples // 2:]\n",
    "predicted = svm2_clf.predict(data[n_samples // 2:])\n",
    "print(metrics.classification_report(expected, predicted))"
   ]
  },
  {
   "cell_type": "code",
   "execution_count": 11,
   "metadata": {},
   "outputs": [
    {
     "name": "stdout",
     "output_type": "stream",
     "text": [
      "              precision    recall  f1-score   support\n",
      "\n",
      "           0       1.00      0.99      0.99        88\n",
      "           1       0.99      0.96      0.97        91\n",
      "           2       0.99      0.99      0.99        86\n",
      "           3       0.98      0.90      0.94        91\n",
      "           4       0.99      0.96      0.97        92\n",
      "           5       0.95      0.96      0.95        91\n",
      "           6       0.99      0.99      0.99        91\n",
      "           7       0.98      0.99      0.98        89\n",
      "           8       0.94      1.00      0.97        88\n",
      "           9       0.92      0.98      0.95        92\n",
      "\n",
      "    accuracy                           0.97       899\n",
      "   macro avg       0.97      0.97      0.97       899\n",
      "weighted avg       0.97      0.97      0.97       899\n",
      "\n"
     ]
    }
   ],
   "source": [
    "svm3_clf = svm.SVC(gamma=0.001, C=10)\n",
    "svm3_clf.fit(data[:n_samples // 2], digits_dataset.target[:n_samples // 2])\n",
    "expected = digits_dataset.target[n_samples // 2:]\n",
    "predicted = svm3_clf.predict(data[n_samples // 2:])\n",
    "print(metrics.classification_report(expected, predicted))"
   ]
  },
  {
   "cell_type": "code",
   "execution_count": 12,
   "metadata": {},
   "outputs": [
    {
     "name": "stdout",
     "output_type": "stream",
     "text": [
      "              precision    recall  f1-score   support\n",
      "\n",
      "           0       0.94      0.99      0.96        88\n",
      "           1       0.84      0.85      0.84        91\n",
      "           2       0.93      0.91      0.92        86\n",
      "           3       0.81      0.87      0.84        91\n",
      "           4       0.89      0.89      0.89        92\n",
      "           5       0.83      0.79      0.81        91\n",
      "           6       0.96      0.99      0.97        91\n",
      "           7       0.92      0.97      0.95        89\n",
      "           8       0.94      0.66      0.77        88\n",
      "           9       0.78      0.88      0.83        92\n",
      "\n",
      "    accuracy                           0.88       899\n",
      "   macro avg       0.88      0.88      0.88       899\n",
      "weighted avg       0.88      0.88      0.88       899\n",
      "\n"
     ]
    },
    {
     "name": "stderr",
     "output_type": "stream",
     "text": [
      "/home/e/anaconda3/lib/python3.7/site-packages/sklearn/ensemble/forest.py:245: FutureWarning: The default value of n_estimators will change from 10 in version 0.20 to 100 in 0.22.\n",
      "  \"10 in version 0.20 to 100 in 0.22.\", FutureWarning)\n"
     ]
    }
   ],
   "source": [
    "rf_clf = RandomForestClassifier()\n",
    "rf_clf.fit(data[:n_samples // 2], digits_dataset.target[:n_samples // 2])\n",
    "expected = digits_dataset.target[n_samples // 2:]\n",
    "predicted = rf_clf.predict(data[n_samples // 2:])\n",
    "print(metrics.classification_report(expected, predicted))"
   ]
  },
  {
   "cell_type": "code",
   "execution_count": 13,
   "metadata": {},
   "outputs": [
    {
     "name": "stdout",
     "output_type": "stream",
     "text": [
      "              precision    recall  f1-score   support\n",
      "\n",
      "           0       0.90      0.98      0.93        88\n",
      "           1       0.88      0.84      0.86        91\n",
      "           2       0.93      0.87      0.90        86\n",
      "           3       0.78      0.86      0.82        91\n",
      "           4       0.92      0.92      0.92        92\n",
      "           5       0.81      0.87      0.84        91\n",
      "           6       0.97      0.98      0.97        91\n",
      "           7       0.88      0.89      0.88        89\n",
      "           8       0.88      0.68      0.77        88\n",
      "           9       0.78      0.82      0.80        92\n",
      "\n",
      "    accuracy                           0.87       899\n",
      "   macro avg       0.87      0.87      0.87       899\n",
      "weighted avg       0.87      0.87      0.87       899\n",
      "\n"
     ]
    },
    {
     "name": "stderr",
     "output_type": "stream",
     "text": [
      "/home/e/anaconda3/lib/python3.7/site-packages/sklearn/ensemble/forest.py:245: FutureWarning: The default value of n_estimators will change from 10 in version 0.20 to 100 in 0.22.\n",
      "  \"10 in version 0.20 to 100 in 0.22.\", FutureWarning)\n"
     ]
    }
   ],
   "source": [
    "rf_clf = RandomForestClassifier()\n",
    "rf_clf.fit(data[:n_samples // 2], digits_dataset.target[:n_samples // 2])\n",
    "expected = digits_dataset.target[n_samples // 2:]\n",
    "predicted = rf_clf.predict(data[n_samples // 2:])\n",
    "print(metrics.classification_report(expected, predicted))"
   ]
  },
  {
   "cell_type": "code",
   "execution_count": 14,
   "metadata": {},
   "outputs": [
    {
     "name": "stdout",
     "output_type": "stream",
     "text": [
      "              precision    recall  f1-score   support\n",
      "\n",
      "           0       0.98      0.99      0.98        88\n",
      "           1       0.96      0.89      0.93        91\n",
      "           2       0.99      0.92      0.95        86\n",
      "           3       0.91      0.87      0.89        91\n",
      "           4       0.98      0.95      0.96        92\n",
      "           5       0.90      0.93      0.92        91\n",
      "           6       0.98      1.00      0.99        91\n",
      "           7       0.95      0.99      0.97        89\n",
      "           8       0.91      0.89      0.90        88\n",
      "           9       0.84      0.95      0.89        92\n",
      "\n",
      "    accuracy                           0.94       899\n",
      "   macro avg       0.94      0.94      0.94       899\n",
      "weighted avg       0.94      0.94      0.94       899\n",
      "\n"
     ]
    }
   ],
   "source": [
    "rf2_clf = RandomForestClassifier(n_estimators=1000)\n",
    "rf2_clf.fit(data[:n_samples // 2], digits_dataset.target[:n_samples // 2])\n",
    "expected = digits_dataset.target[n_samples // 2:]\n",
    "predicted = rf2_clf.predict(data[n_samples // 2:])\n",
    "print(metrics.classification_report(expected, predicted))"
   ]
  },
  {
   "cell_type": "code",
   "execution_count": 15,
   "metadata": {},
   "outputs": [
    {
     "name": "stdout",
     "output_type": "stream",
     "text": [
      "              precision    recall  f1-score   support\n",
      "\n",
      "           0       0.98      0.99      0.98        88\n",
      "           1       0.96      0.89      0.93        91\n",
      "           2       0.97      0.91      0.94        86\n",
      "           3       0.91      0.85      0.87        91\n",
      "           4       0.98      0.95      0.96        92\n",
      "           5       0.89      0.93      0.91        91\n",
      "           6       0.98      0.99      0.98        91\n",
      "           7       0.94      0.99      0.96        89\n",
      "           8       0.91      0.89      0.90        88\n",
      "           9       0.84      0.96      0.89        92\n",
      "\n",
      "    accuracy                           0.93       899\n",
      "   macro avg       0.94      0.93      0.93       899\n",
      "weighted avg       0.94      0.93      0.93       899\n",
      "\n"
     ]
    }
   ],
   "source": [
    "rf3_clf = RandomForestClassifier(n_jobs=-1, n_estimators=1000)\n",
    "rf3_clf.fit(data[:n_samples // 2], digits_dataset.target[:n_samples // 2])\n",
    "expected = digits_dataset.target[n_samples // 2:]\n",
    "predicted = rf3_clf.predict(data[n_samples // 2:])\n",
    "print(metrics.classification_report(expected, predicted))"
   ]
  },
  {
   "cell_type": "code",
   "execution_count": 16,
   "metadata": {},
   "outputs": [
    {
     "name": "stdout",
     "output_type": "stream",
     "text": [
      "              precision    recall  f1-score   support\n",
      "\n",
      "           0       0.99      1.00      0.99        88\n",
      "           1       0.95      0.98      0.96        91\n",
      "           2       0.98      0.93      0.95        86\n",
      "           3       0.89      0.90      0.90        91\n",
      "           4       1.00      0.95      0.97        92\n",
      "           5       0.96      0.98      0.97        91\n",
      "           6       0.99      1.00      0.99        91\n",
      "           7       0.95      1.00      0.97        89\n",
      "           8       0.95      0.90      0.92        88\n",
      "           9       0.91      0.92      0.92        92\n",
      "\n",
      "    accuracy                           0.96       899\n",
      "   macro avg       0.96      0.96      0.96       899\n",
      "weighted avg       0.96      0.96      0.96       899\n",
      "\n"
     ]
    }
   ],
   "source": [
    "knn_clf = KNeighborsClassifier()\n",
    "knn_clf.fit(data[:n_samples // 2], digits_dataset.target[:n_samples // 2])\n",
    "expected = digits_dataset.target[n_samples // 2:]\n",
    "predicted = knn_clf.predict(data[n_samples // 2:])\n",
    "print(metrics.classification_report(expected, predicted))"
   ]
  },
  {
   "cell_type": "code",
   "execution_count": 17,
   "metadata": {},
   "outputs": [
    {
     "name": "stdout",
     "output_type": "stream",
     "text": [
      "              precision    recall  f1-score   support\n",
      "\n",
      "           0       0.95      0.99      0.97        88\n",
      "           1       0.95      0.79      0.86        91\n",
      "           2       0.87      0.86      0.87        86\n",
      "           3       0.74      0.88      0.80        91\n",
      "           4       0.99      0.93      0.96        92\n",
      "           5       0.87      0.85      0.86        91\n",
      "           6       0.96      0.99      0.97        91\n",
      "           7       0.90      0.99      0.94        89\n",
      "           8       0.93      0.75      0.83        88\n",
      "           9       0.80      0.86      0.83        92\n",
      "\n",
      "    accuracy                           0.89       899\n",
      "   macro avg       0.89      0.89      0.89       899\n",
      "weighted avg       0.89      0.89      0.89       899\n",
      "\n"
     ]
    }
   ],
   "source": [
    "knn1_clf = KNeighborsClassifier(n_neighbors=100, weights='distance')\n",
    "knn1_clf.fit(data[:n_samples // 2], digits_dataset.target[:n_samples // 2])\n",
    "expected = digits_dataset.target[n_samples // 2:]\n",
    "predicted = knn1_clf.predict(data[n_samples // 2:])\n",
    "print(metrics.classification_report(expected, predicted))"
   ]
  },
  {
   "cell_type": "code",
   "execution_count": 18,
   "metadata": {},
   "outputs": [
    {
     "name": "stdout",
     "output_type": "stream",
     "text": [
      "              precision    recall  f1-score   support\n",
      "\n",
      "           0       0.99      1.00      0.99        88\n",
      "           1       0.95      0.98      0.96        91\n",
      "           2       0.98      0.93      0.95        86\n",
      "           3       0.89      0.90      0.90        91\n",
      "           4       1.00      0.95      0.97        92\n",
      "           5       0.96      0.98      0.97        91\n",
      "           6       0.99      1.00      0.99        91\n",
      "           7       0.95      1.00      0.97        89\n",
      "           8       0.95      0.90      0.92        88\n",
      "           9       0.91      0.92      0.92        92\n",
      "\n",
      "    accuracy                           0.96       899\n",
      "   macro avg       0.96      0.96      0.96       899\n",
      "weighted avg       0.96      0.96      0.96       899\n",
      "\n"
     ]
    }
   ],
   "source": [
    "knn2_clf = KNeighborsClassifier(algorithm='ball_tree')\n",
    "knn2_clf.fit(data[:n_samples // 2], digits_dataset.target[:n_samples // 2])\n",
    "expected = digits_dataset.target[n_samples // 2:]\n",
    "predicted = knn2_clf.predict(data[n_samples // 2:])\n",
    "print(metrics.classification_report(expected, predicted))"
   ]
  },
  {
   "cell_type": "code",
   "execution_count": 19,
   "metadata": {},
   "outputs": [
    {
     "name": "stdout",
     "output_type": "stream",
     "text": [
      "              precision    recall  f1-score   support\n",
      "\n",
      "           0       0.98      0.98      0.98        88\n",
      "           1       0.90      0.66      0.76        91\n",
      "           2       0.85      0.87      0.86        86\n",
      "           3       0.90      0.84      0.87        91\n",
      "           4       0.91      0.93      0.92        92\n",
      "           5       0.84      0.70      0.77        91\n",
      "           6       0.98      0.98      0.98        91\n",
      "           7       0.89      0.90      0.89        89\n",
      "           8       0.77      0.83      0.80        88\n",
      "           9       0.65      0.88      0.75        92\n",
      "\n",
      "    accuracy                           0.86       899\n",
      "   macro avg       0.87      0.86      0.86       899\n",
      "weighted avg       0.87      0.86      0.86       899\n",
      "\n"
     ]
    }
   ],
   "source": [
    "mnb_clf = MultinomialNB()\n",
    "mnb_clf.fit(data[:n_samples // 2], digits_dataset.target[:n_samples // 2])\n",
    "expected = digits_dataset.target[n_samples // 2:]\n",
    "predicted = mnb_clf.predict(data[n_samples // 2:])\n",
    "print(metrics.classification_report(expected, predicted))"
   ]
  },
  {
   "cell_type": "code",
   "execution_count": 20,
   "metadata": {},
   "outputs": [
    {
     "name": "stdout",
     "output_type": "stream",
     "text": [
      "              precision    recall  f1-score   support\n",
      "\n",
      "           0       0.99      0.97      0.98        88\n",
      "           1       0.90      0.66      0.76        91\n",
      "           2       0.82      0.87      0.85        86\n",
      "           3       0.90      0.84      0.87        91\n",
      "           4       0.90      0.93      0.91        92\n",
      "           5       0.82      0.70      0.76        91\n",
      "           6       0.98      0.98      0.98        91\n",
      "           7       0.89      0.85      0.87        89\n",
      "           8       0.76      0.81      0.78        88\n",
      "           9       0.64      0.88      0.74        92\n",
      "\n",
      "    accuracy                           0.85       899\n",
      "   macro avg       0.86      0.85      0.85       899\n",
      "weighted avg       0.86      0.85      0.85       899\n",
      "\n"
     ]
    },
    {
     "name": "stderr",
     "output_type": "stream",
     "text": [
      "/home/e/anaconda3/lib/python3.7/site-packages/sklearn/naive_bayes.py:485: UserWarning: alpha too small will result in numeric errors, setting alpha = 1.0e-10\n",
      "  'setting alpha = %.1e' % _ALPHA_MIN)\n"
     ]
    }
   ],
   "source": [
    "mnb2_clf = MultinomialNB(alpha=0)\n",
    "mnb2_clf.fit(data[:n_samples // 2], digits_dataset.target[:n_samples // 2])\n",
    "expected = digits_dataset.target[n_samples // 2:]\n",
    "predicted = mnb2_clf.predict(data[n_samples // 2:])\n",
    "print(metrics.classification_report(expected, predicted))"
   ]
  },
  {
   "cell_type": "code",
   "execution_count": 21,
   "metadata": {},
   "outputs": [
    {
     "name": "stdout",
     "output_type": "stream",
     "text": [
      "              precision    recall  f1-score   support\n",
      "\n",
      "           0       0.98      0.95      0.97        88\n",
      "           1       0.81      0.74      0.77        91\n",
      "           2       0.87      0.84      0.85        86\n",
      "           3       0.88      0.79      0.83        91\n",
      "           4       1.00      0.73      0.84        92\n",
      "           5       0.70      0.81      0.76        91\n",
      "           6       0.96      0.99      0.97        91\n",
      "           7       0.65      0.81      0.72        89\n",
      "           8       0.61      0.76      0.68        88\n",
      "           9       0.77      0.66      0.71        92\n",
      "\n",
      "    accuracy                           0.81       899\n",
      "   macro avg       0.82      0.81      0.81       899\n",
      "weighted avg       0.82      0.81      0.81       899\n",
      "\n"
     ]
    }
   ],
   "source": [
    "gnb_clf = GaussianNB()\n",
    "gnb_clf.fit(data[:n_samples // 2], digits_dataset.target[:n_samples // 2])\n",
    "expected = digits_dataset.target[n_samples // 2:]\n",
    "predicted = gnb_clf.predict(data[n_samples // 2:])\n",
    "print(metrics.classification_report(expected, predicted))"
   ]
  },
  {
   "cell_type": "code",
   "execution_count": 22,
   "metadata": {},
   "outputs": [
    {
     "name": "stdout",
     "output_type": "stream",
     "text": [
      "              precision    recall  f1-score   support\n",
      "\n",
      "           0       1.00      0.98      0.99        88\n",
      "           1       0.75      0.54      0.63        91\n",
      "           2       0.87      0.80      0.84        86\n",
      "           3       0.73      0.82      0.77        91\n",
      "           4       0.94      0.92      0.93        92\n",
      "           5       0.76      0.74      0.75        91\n",
      "           6       0.95      0.97      0.96        91\n",
      "           7       0.89      0.96      0.92        89\n",
      "           8       0.72      0.66      0.69        88\n",
      "           9       0.69      0.88      0.77        92\n",
      "\n",
      "    accuracy                           0.83       899\n",
      "   macro avg       0.83      0.83      0.82       899\n",
      "weighted avg       0.83      0.83      0.82       899\n",
      "\n"
     ]
    }
   ],
   "source": [
    "bnb_clf = BernoulliNB()\n",
    "bnb_clf.fit(data[:n_samples // 2], digits_dataset.target[:n_samples // 2])\n",
    "expected = digits_dataset.target[n_samples // 2:]\n",
    "predicted = bnb_clf.predict(data[n_samples // 2:])\n",
    "print(metrics.classification_report(expected, predicted))"
   ]
  },
  {
   "cell_type": "code",
   "execution_count": 23,
   "metadata": {},
   "outputs": [
    {
     "name": "stdout",
     "output_type": "stream",
     "text": [
      "              precision    recall  f1-score   support\n",
      "\n",
      "           0       0.92      0.98      0.95        88\n",
      "           1       0.80      0.90      0.85        91\n",
      "           2       1.00      0.95      0.98        86\n",
      "           3       0.99      0.86      0.92        91\n",
      "           4       0.99      0.88      0.93        92\n",
      "           5       0.86      0.96      0.91        91\n",
      "           6       0.92      1.00      0.96        91\n",
      "           7       1.00      0.84      0.91        89\n",
      "           8       0.90      0.82      0.86        88\n",
      "           9       0.80      0.92      0.86        92\n",
      "\n",
      "    accuracy                           0.91       899\n",
      "   macro avg       0.92      0.91      0.91       899\n",
      "weighted avg       0.92      0.91      0.91       899\n",
      "\n"
     ]
    }
   ],
   "source": [
    "sgd_clf = SGDClassifier()\n",
    "sgd_clf.fit(data[:n_samples // 2], digits_dataset.target[:n_samples // 2])\n",
    "expected = digits_dataset.target[n_samples // 2:]\n",
    "predicted = sgd_clf.predict(data[n_samples // 2:])\n",
    "print(metrics.classification_report(expected, predicted))"
   ]
  },
  {
   "cell_type": "code",
   "execution_count": 24,
   "metadata": {},
   "outputs": [
    {
     "name": "stdout",
     "output_type": "stream",
     "text": [
      "              precision    recall  f1-score   support\n",
      "\n",
      "           0       0.95      0.98      0.96        88\n",
      "           1       0.87      0.81      0.84        91\n",
      "           2       0.94      0.98      0.96        86\n",
      "           3       0.95      0.85      0.90        91\n",
      "           4       0.96      0.93      0.95        92\n",
      "           5       0.81      0.96      0.88        91\n",
      "           6       0.97      0.99      0.98        91\n",
      "           7       0.99      0.97      0.98        89\n",
      "           8       0.91      0.77      0.83        88\n",
      "           9       0.83      0.91      0.87        92\n",
      "\n",
      "    accuracy                           0.91       899\n",
      "   macro avg       0.92      0.91      0.91       899\n",
      "weighted avg       0.92      0.91      0.91       899\n",
      "\n"
     ]
    }
   ],
   "source": [
    "sgd2_clf = SGDClassifier(alpha=2)\n",
    "sgd2_clf.fit(data[:n_samples // 2], digits_dataset.target[:n_samples // 2])\n",
    "expected = digits_dataset.target[n_samples // 2:]\n",
    "predicted = sgd2_clf.predict(data[n_samples // 2:])\n",
    "print(metrics.classification_report(expected, predicted))"
   ]
  },
  {
   "cell_type": "code",
   "execution_count": 25,
   "metadata": {},
   "outputs": [
    {
     "name": "stdout",
     "output_type": "stream",
     "text": [
      "(1797, 64)\n",
      "(1797, 51)\n"
     ]
    }
   ],
   "source": [
    "ch2 = SelectPercentile(chi2, 80)\n",
    "X_train = ch2.fit_transform(data, digits_dataset.target)\n",
    "print(np.shape(data))\n",
    "print(np.shape(X_train))"
   ]
  },
  {
   "cell_type": "code",
   "execution_count": 26,
   "metadata": {},
   "outputs": [
    {
     "data": {
      "text/plain": [
       "array([          nan,  811.90700411, 3501.28249552,  698.9252572 ,\n",
       "        438.52969882, 3879.81925999, 3969.45823205, 1193.5608181 ,\n",
       "         24.79521396, 2953.83108764, 2583.65198939,  388.24205944,\n",
       "        824.69094853, 3676.48924765, 1983.5796061 ,  597.24198237,\n",
       "          8.95886124, 1924.21690377, 2409.27140681, 3556.31594594,\n",
       "       4871.94194551, 4782.19921618, 2155.17378998,  376.76583333,\n",
       "          7.90090158, 2471.82418401, 4515.48149826, 2986.64314847,\n",
       "       3724.09567634, 3208.64686641, 5138.07412439,   35.71270718,\n",
       "                 nan, 5688.25079535, 5262.46646904, 3165.0605867 ,\n",
       "       3231.63943369, 2532.99695611, 3288.81403655,           nan,\n",
       "        142.85082873, 3863.85787901, 6416.0867248 , 5448.25154235,\n",
       "       4079.73153383, 2134.02540236, 4486.34097862,  313.53898127,\n",
       "         70.39927392,  449.72327313, 2801.97224468, 1527.54519627,\n",
       "       1653.15892311, 3073.99803898, 5251.21748723,  683.88227339,\n",
       "          9.15254237,  851.06791492, 3800.2473108 ,  730.92975659,\n",
       "       1859.53966338, 4379.2250408 , 5059.00551511, 2281.32864013])"
      ]
     },
     "execution_count": 26,
     "metadata": {},
     "output_type": "execute_result"
    }
   ],
   "source": [
    "ch2.scores_"
   ]
  },
  {
   "cell_type": "code",
   "execution_count": 27,
   "metadata": {},
   "outputs": [
    {
     "name": "stdout",
     "output_type": "stream",
     "text": [
      "              precision    recall  f1-score   support\n",
      "\n",
      "           0       0.94      0.99      0.96        88\n",
      "           1       0.86      0.80      0.83        91\n",
      "           2       1.00      0.94      0.97        86\n",
      "           3       0.95      0.85      0.90        91\n",
      "           4       0.97      0.93      0.95        92\n",
      "           5       0.90      0.95      0.92        91\n",
      "           6       0.96      0.99      0.97        91\n",
      "           7       0.99      0.99      0.99        89\n",
      "           8       0.87      0.84      0.86        88\n",
      "           9       0.80      0.92      0.86        92\n",
      "\n",
      "    accuracy                           0.92       899\n",
      "   macro avg       0.92      0.92      0.92       899\n",
      "weighted avg       0.92      0.92      0.92       899\n",
      "\n"
     ]
    }
   ],
   "source": [
    "sgd3_clf = SGDClassifier(alpha=2)\n",
    "sgd3_clf.fit(X_train[:n_samples // 2], digits_dataset.target[:n_samples // 2])\n",
    "expected = digits_dataset.target[n_samples // 2:]\n",
    "predicted = sgd3_clf.predict(X_train[n_samples // 2:])\n",
    "print(metrics.classification_report(expected, predicted))"
   ]
  },
  {
   "cell_type": "code",
   "execution_count": 28,
   "metadata": {},
   "outputs": [],
   "source": [
    "model1 = svm_clf\n",
    "model2 = rf3_clf\n",
    "model3= knn_clf\n",
    "\n",
    "model4 = sgd3_clf\n",
    "model5 = svm3_clf\n",
    "model6= knn2_clf\n",
    "\n",
    "x_train=data[:n_samples // 2]\n",
    "y_train=digits_dataset.target[:n_samples // 2]\n",
    "x_test=data[n_samples // 2:]\n",
    "y_test=digits_dataset.target[n_samples // 2:]\n",
    "\n",
    "model1.fit(x_train,y_train)\n",
    "model2.fit(x_train,y_train)\n",
    "model3.fit(x_train,y_train)\n",
    "model4.fit(x_train,y_train)\n",
    "model5.fit(x_train,y_train)\n",
    "model6.fit(x_train,y_train)\n",
    "\n",
    "pred1=model1.predict(x_test)\n",
    "pred2=model2.predict(x_test)\n",
    "pred3=model3.predict(x_test)\n",
    "pred4=model1.predict(x_test)\n",
    "pred5=model2.predict(x_test)\n",
    "pred6=model3.predict(x_test)"
   ]
  },
  {
   "cell_type": "code",
   "execution_count": null,
   "metadata": {},
   "outputs": [],
   "source": [
    "import statistics\n",
    "final_pred = np.array([])\n",
    "for i in range(0,len(x_test)):\n",
    "    estimator=statistics.mode([pred1[i], pred2[i], pred3[i]])[0]\n",
    "    final_model = np.append(final_pred,estimator)\n",
    "final_model.fit(x_train,y_train)\n",
    "final_model.score(x_test,y_test)"
   ]
  },
  {
   "cell_type": "code",
   "execution_count": 29,
   "metadata": {},
   "outputs": [
    {
     "data": {
      "text/plain": [
       "0.9632925472747497"
      ]
     },
     "execution_count": 29,
     "metadata": {},
     "output_type": "execute_result"
    }
   ],
   "source": [
    "from sklearn.ensemble import VotingClassifier\n",
    "\n",
    "model = VotingClassifier(estimators=[('svm', model1), ('rf3', model2),('knn', model3), ('sgd3', model4),('svm3', model5), ('knn2', model6)], voting='hard')\n",
    "model.fit(x_train,y_train)\n",
    "model.score(x_test,y_test)"
   ]
  }
 ],
 "metadata": {
  "kernelspec": {
   "display_name": "Python 3",
   "language": "python",
   "name": "python3"
  },
  "language_info": {
   "codemirror_mode": {
    "name": "ipython",
    "version": 3
   },
   "file_extension": ".py",
   "mimetype": "text/x-python",
   "name": "python",
   "nbconvert_exporter": "python",
   "pygments_lexer": "ipython3",
   "version": "3.7.4"
  }
 },
 "nbformat": 4,
 "nbformat_minor": 2
}
